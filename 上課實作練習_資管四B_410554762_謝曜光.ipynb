{
 "cells": [
  {
   "cell_type": "markdown",
   "metadata": {},
   "source": [
    "## 實作練習一"
   ]
  },
  {
   "cell_type": "code",
   "execution_count": 17,
   "metadata": {},
   "outputs": [
    {
     "name": "stdout",
     "output_type": "stream",
     "text": [
      "請輸入成績:78\n",
      "乙等\n"
     ]
    }
   ],
   "source": [
    "score = input(\"請輸入成績:\")\n",
    "if (int(score)) >= 90:\n",
    "    print(\"優等\")\n",
    "elif (int(score)) >= 80:\n",
    "    print(\"甲等\")\n",
    "elif (int(score)) >= 70:\n",
    "    print(\"乙等\")\n",
    "elif (int(score)) >= 60:\n",
    "    print(\"丙等\")\n",
    "elif (int(score)) <= 60:\n",
    "    print(\"丁等\")"
   ]
  },
  {
   "cell_type": "markdown",
   "metadata": {},
   "source": [
    "## 實作練習二"
   ]
  },
  {
   "cell_type": "code",
   "execution_count": 21,
   "metadata": {},
   "outputs": [
    {
     "name": "stdout",
     "output_type": "stream",
     "text": [
      "請輸入正整數：10\n",
      "55\n"
     ]
    }
   ],
   "source": [
    "sum = 0\n",
    "n = int(input(\"請輸入正整數：\"))\n",
    "for n in range(1,n+1):\n",
    "    sum +=n\n",
    "print(sum)"
   ]
  },
  {
   "cell_type": "markdown",
   "metadata": {},
   "source": [
    "## 實作練習五"
   ]
  },
  {
   "cell_type": "code",
   "execution_count": 22,
   "metadata": {},
   "outputs": [
    {
     "name": "stdout",
     "output_type": "stream",
     "text": [
      "請輸入正整數：１２\n",
      "1,2,3,4,6,7,8,9,11,12,"
     ]
    }
   ],
   "source": [
    "n = int(input(\"請輸入正整數：\"))\n",
    "for i in range(1, n+1):\n",
    "    if i % 5 ==0:\n",
    "        continue\n",
    "    print(i,end=\",\")"
   ]
  },
  {
   "cell_type": "markdown",
   "metadata": {},
   "source": [
    "## 實作練習六"
   ]
  },
  {
   "cell_type": "code",
   "execution_count": 23,
   "metadata": {},
   "outputs": [
    {
     "name": "stdout",
     "output_type": "stream",
     "text": [
      "請輸入正整數n的值：１００\n",
      "93326215443944152681699238856266700490715968264381621468592963895217599993229915608941463976156518286253697920827223758251185210916864000000000000000000000000\n"
     ]
    }
   ],
   "source": [
    "n = int(input(\"請輸入正整數n的值：\"))\n",
    "sum = 1\n",
    "for i in range(1, n+1):\n",
    "    sum *= i\n",
    "print (sum)"
   ]
  },
  {
   "cell_type": "code",
   "execution_count": null,
   "metadata": {},
   "outputs": [],
   "source": []
  }
 ],
 "metadata": {
  "kernelspec": {
   "display_name": "Python 3",
   "language": "python",
   "name": "python3"
  },
  "language_info": {
   "codemirror_mode": {
    "name": "ipython",
    "version": 3
   },
   "file_extension": ".py",
   "mimetype": "text/x-python",
   "name": "python",
   "nbconvert_exporter": "python",
   "pygments_lexer": "ipython3",
   "version": "3.7.4"
  }
 },
 "nbformat": 4,
 "nbformat_minor": 2
}
